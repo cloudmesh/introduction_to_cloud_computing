{
 "metadata": {
  "name": "",
  "signature": "sha256:bb2ab8437f8d9e8a5d9d9b0eae91d6f666a80203affdefa9318fe0687584ba7b"
 },
 "nbformat": 3,
 "nbformat_minor": 0,
 "worksheets": [
  {
   "cells": [
    {
     "cell_type": "heading",
     "level": 2,
     "metadata": {},
     "source": [
      "Cloudmesh Shell Boot"
     ]
    },
    {
     "cell_type": "code",
     "collapsed": false,
     "input": [
      "import cloudmesh"
     ],
     "language": "python",
     "metadata": {},
     "outputs": []
    },
    {
     "cell_type": "heading",
     "level": 3,
     "metadata": {},
     "source": [
      "Start VM"
     ]
    },
    {
     "cell_type": "code",
     "collapsed": false,
     "input": [
      "print cloudmesh.shell(\"vm start\")"
     ],
     "language": "python",
     "metadata": {},
     "outputs": []
    },
    {
     "cell_type": "markdown",
     "metadata": {},
     "source": [
      "\n",
      "--simulator\n",
      "\n",
      "print \"hallo world\"\n",
      "\n",
      "\n",
      "set simulator=False\n",
      "\n",
      "   normal behavior\n",
      "   \n",
      "   \n",
      "set simulator=True\n",
      "\n",
      "\n",
      "   .... print ... with sleep\n",
      "   \n",
      "   \n",
      "   \n",
      "\n",
      "\n",
      "# set format=\"human\"\n",
      "# vm start\n",
      "# virtual machine gvonlas-001 started\n",
      "\n",
      "\n",
      "set format=\"json\"\n",
      "vm start\n",
      "gvonlasz-0001: { ..... }\n",
      "\n",
      "set format=\"short\"\n",
      "vm start\n",
      "gvonlas-001\n",
      "\n",
      "set format=\"table\"\n",
      "vm start\n",
      "+--------\n",
      "\n",
      "\n",
      "delete gvonlas-001\n",
      "\n",
      "delete last\n",
      "\n",
      "last\n",
      "\n",
      "last india\n",
      "\n",
      "last - india\n",
      "\n",
      "default save NAME\n",
      "default load NAME\n",
      "\n",
      "defaults diff exp1 exp2\n",
      "\n",
      "cloud india\n",
      "\n",
      "default load exp1\n",
      "india:\n",
      "- image: ubunu14\n",
      "- falvor: timy\n",
      "sierra:\n",
      "-\n",
      "\n",
      "\n",
      "vm start\n",
      "\n",
      "default load exp2\n",
      "- image: centos\n",
      "- falvor: timY\n",
      "\n",
      "vm start\n",
      "\n",
      "\n",
      "\n",
      "default = {'format': 'json'}\n",
      "\n",
      "def abc()\n",
      "   return deafult['format']\n",
      "   \n",
      "   \n",
      "def f(format=abc):\n",
      "   \n",
      "   _format = format()\n",
      "   \n",
      "   execute (format=_format)\n",
      "\n",
      "\n",
      "\n",
      "\n",
      "\n",
      "\n",
      "\n"
     ]
    },
    {
     "cell_type": "code",
     "collapsed": false,
     "input": [
      "print cloudmesh.shell(\"list vm --refresh\")"
     ],
     "language": "python",
     "metadata": {},
     "outputs": []
    }
   ],
   "metadata": {}
  }
 ]
}