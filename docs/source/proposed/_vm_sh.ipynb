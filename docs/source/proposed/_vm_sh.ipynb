{
 "metadata": {
  "name": "",
  "signature": "sha256:19f2a496112bfb24328f857ccce11821f2026c1f7e7b3917b437505ca7dea6e1"
 },
 "nbformat": 3,
 "nbformat_minor": 0,
 "worksheets": [
  {
   "cells": [
    {
     "cell_type": "heading",
     "level": 1,
     "metadata": {},
     "source": [
      "Provider"
     ]
    },
    {
     "cell_type": "markdown",
     "metadata": {},
     "source": [
      "<button type=\"button\" class=\"btn btn-default navbar-btn\">[Notebook](http://localhost:8888/notebooks/docs/source/cloudmesh/api/_vm_sh.ipynb)</button>"
     ]
    },
    {
     "cell_type": "markdown",
     "metadata": {},
     "source": [
      "**IMPORTANT:** THIS SECTION IS NOT YET COMPLETE. HELP US COMPLETING IT"
     ]
    },
    {
     "cell_type": "markdown",
     "metadata": {},
     "source": [
      ".. todo:: get the cloud credentials form a yaml file\n",
      "        \n",
      ".. todo:: use the information to start a VM\n",
      "        \n",
      ".. todo:: do this section later as we need flavors and images"
     ]
    },
    {
     "cell_type": "markdown",
     "metadata": {},
     "source": [
      "Sometimes it may be useful to have access to the nova shell command from within python. However, at times you may not actually want to use it but rather print just jte arguments while simulating a call to the shell command. To support these two functions, we are offering a simple provider that returns either the real sh function, or a function that just prints its arguments.\n",
      "\n",
      "We start our program first with importing cloudmesh and the provider"
     ]
    },
    {
     "cell_type": "code",
     "collapsed": false,
     "input": [
      "import cloudmesh"
     ],
     "language": "python",
     "metadata": {},
     "outputs": [],
     "prompt_number": 8
    },
    {
     "cell_type": "code",
     "collapsed": false,
     "input": [
      "from cloudmesh.sh.openstack import nova_provider"
     ],
     "language": "python",
     "metadata": {},
     "outputs": [],
     "prompt_number": 9
    },
    {
     "cell_type": "markdown",
     "metadata": {},
     "source": [
      "Next we decide to load one of the providors. The values are \"sh\" and \"simulator\". We chose the simulator. we name the function to boot a vm nova_boot. "
     ]
    },
    {
     "cell_type": "code",
     "collapsed": false,
     "input": [
      "vm_boot = nova_provider(\"simulator\")"
     ],
     "language": "python",
     "metadata": {},
     "outputs": [],
     "prompt_number": 10
    },
    {
     "cell_type": "markdown",
     "metadata": {},
     "source": [
      "Now we can boot a vm with the command"
     ]
    },
    {
     "cell_type": "code",
     "collapsed": false,
     "input": [
      "vm_boot(\"a\", \"b\", h=\"k\")"
     ],
     "language": "python",
     "metadata": {},
     "outputs": [
      {
       "output_type": "stream",
       "stream": "stdout",
       "text": [
        "('a', 'b') {'h': 'k'}\n"
       ]
      }
     ],
     "prompt_number": 11
    },
    {
     "cell_type": "markdown",
     "metadata": {},
     "source": [
      "To use a real submission we can switch the vm_boot function with the provider"
     ]
    },
    {
     "cell_type": "code",
     "collapsed": false,
     "input": [
      "vm_boot = nova_provider(\"sh\")"
     ],
     "language": "python",
     "metadata": {},
     "outputs": [],
     "prompt_number": 14
    },
    {
     "cell_type": "code",
     "collapsed": false,
     "input": [
      "vm_boot(TODO)"
     ],
     "language": "python",
     "metadata": {},
     "outputs": []
    }
   ],
   "metadata": {}
  }
 ]
}