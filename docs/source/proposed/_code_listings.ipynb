{
 "metadata": {
  "name": "",
  "signature": "sha256:6b649c3ba5a4242f60c5761b45ddbbc6d5d7674aa620c372f04b36ba04ace87d"
 },
 "nbformat": 3,
 "nbformat_minor": 0,
 "worksheets": [
  {
   "cells": [
    {
     "cell_type": "heading",
     "level": 1,
     "metadata": {},
     "source": [
      "Code Listings"
     ]
    },
    {
     "cell_type": "markdown",
     "metadata": {},
     "source": [
      "<button type=\"button\" class=\"btn btn-default navbar-btn\">[Notebook](http://localhost:8888/notebooks/docs/source/cloudmesh/api/_list.ipynb)</button>"
     ]
    },
    {
     "cell_type": "heading",
     "level": 2,
     "metadata": {},
     "source": [
      "Booting a virtual machine"
     ]
    },
    {
     "cell_type": "heading",
     "level": 3,
     "metadata": {},
     "source": [
      "Boot with cloudmesh"
     ]
    },
    {
     "cell_type": "markdown",
     "metadata": {},
     "source": [
      "There are two ways to boot a VM with cloudmesh other than cloudmesh GUI, you may choose cloudmesh API or CLI. For example, boot a VM with API:"
     ]
    },
    {
     "cell_type": "code",
     "collapsed": false,
     "input": [
      "import cloudmesh"
     ],
     "language": "python",
     "metadata": {},
     "outputs": []
    },
    {
     "cell_type": "code",
     "collapsed": false,
     "input": [
      "mesh = cloudmesh.mesh(\"mongo\")"
     ],
     "language": "python",
     "metadata": {},
     "outputs": []
    },
    {
     "cell_type": "code",
     "collapsed": false,
     "input": [
      "username = cloudmesh.load().username()"
     ],
     "language": "python",
     "metadata": {},
     "outputs": []
    },
    {
     "cell_type": "code",
     "collapsed": false,
     "input": [
      "mesh.activate(username)"
     ],
     "language": "python",
     "metadata": {},
     "outputs": []
    },
    {
     "cell_type": "code",
     "collapsed": false,
     "input": [
      "mesh.start(cloud=\"india\", cm_user_id=username flavor=\"m1.small\", image=\"futuregrid/ubuntu-14.04\")"
     ],
     "language": "python",
     "metadata": {},
     "outputs": []
    },
    {
     "cell_type": "markdown",
     "metadata": {},
     "source": [
      "boot a VM with CLI: (note here we use a convenient way to call cloudmesh shell commands by using cloudmesh.shell, so that we can illustrate our CLI in ipython notebook)"
     ]
    },
    {
     "cell_type": "code",
     "collapsed": false,
     "input": [
      "cloudmesh.shell(\"vm start --cloud=india --flavor=m1.medium --image=futuregrid/ubuntu-12.04\")"
     ],
     "language": "python",
     "metadata": {},
     "outputs": []
    },
    {
     "cell_type": "markdown",
     "metadata": {},
     "source": [
      "There are other ways to boot VMs with CLI, for more details about CLI command vm:"
     ]
    },
    {
     "cell_type": "code",
     "collapsed": false,
     "input": [
      "print cloudmesh.shell(\"vm -h\")"
     ],
     "language": "python",
     "metadata": {},
     "outputs": []
    },
    {
     "cell_type": "heading",
     "level": 2,
     "metadata": {},
     "source": [
      "Deleting virtual machines"
     ]
    },
    {
     "cell_type": "heading",
     "level": 3,
     "metadata": {},
     "source": [
      "Delete with cloudmesh"
     ]
    },
    {
     "cell_type": "markdown",
     "metadata": {},
     "source": [
      "Similar as booting a VM, we can also delete a VM with API and CLI of cloudmesh. For example, delete a VM with API: (note here you need to provide the ID of VM to delete. If you want to test this, please follow the initialization steps of the previous section 'boot with cloudmesh' first)"
     ]
    },
    {
     "cell_type": "code",
     "collapsed": false,
     "input": [
      "mesh.delete(cloud=\"india\", server=\"provvide vm id\", username)"
     ],
     "language": "python",
     "metadata": {},
     "outputs": []
    },
    {
     "cell_type": "markdown",
     "metadata": {},
     "source": [
      "delete a VM with CLI:"
     ]
    },
    {
     "cell_type": "code",
     "collapsed": false,
     "input": [
      "cloudmesh.shell(\"vm delete --id=provvide vm id --cloud=india --force\")"
     ],
     "language": "python",
     "metadata": {},
     "outputs": []
    },
    {
     "cell_type": "markdown",
     "metadata": {},
     "source": [
      "There are other ways to delete VMs with CLI, for more details about CLI command vm:"
     ]
    },
    {
     "cell_type": "code",
     "collapsed": false,
     "input": [
      "print cloudmesh.shell(\"vm -h\")"
     ],
     "language": "python",
     "metadata": {},
     "outputs": []
    },
    {
     "cell_type": "heading",
     "level": 2,
     "metadata": {},
     "source": [
      "Query to Cloud"
     ]
    },
    {
     "cell_type": "heading",
     "level": 3,
     "metadata": {},
     "source": [
      "List Flavors"
     ]
    },
    {
     "cell_type": "markdown",
     "metadata": {},
     "source": [
      "API:"
     ]
    },
    {
     "cell_type": "code",
     "collapsed": false,
     "input": [
      "mesh.flavors(cm_user_id=username, clouds=[\"india\"])"
     ],
     "language": "python",
     "metadata": {},
     "outputs": []
    },
    {
     "cell_type": "markdown",
     "metadata": {},
     "source": [
      "CLI:"
     ]
    },
    {
     "cell_type": "code",
     "collapsed": false,
     "input": [
      "cloudmesh.shell(\"list flavor india --refresh\")"
     ],
     "language": "python",
     "metadata": {},
     "outputs": []
    },
    {
     "cell_type": "heading",
     "level": 3,
     "metadata": {},
     "source": [
      "List Images"
     ]
    },
    {
     "cell_type": "markdown",
     "metadata": {},
     "source": [
      "API:"
     ]
    },
    {
     "cell_type": "code",
     "collapsed": false,
     "input": [
      "mesh.images(clouds=['india'],cm_user_id=username)"
     ],
     "language": "python",
     "metadata": {},
     "outputs": []
    },
    {
     "cell_type": "markdown",
     "metadata": {},
     "source": [
      "CLI:"
     ]
    },
    {
     "cell_type": "code",
     "collapsed": false,
     "input": [
      "cloudmesh.shell(\"list image india --refresh\")"
     ],
     "language": "python",
     "metadata": {},
     "outputs": []
    },
    {
     "cell_type": "heading",
     "level": 3,
     "metadata": {},
     "source": [
      "List Virtual Machines"
     ]
    },
    {
     "cell_type": "markdown",
     "metadata": {},
     "source": [
      "API:"
     ]
    },
    {
     "cell_type": "code",
     "collapsed": false,
     "input": [
      "mesh.servers(clouds=['india'],cm_user_id=username)"
     ],
     "language": "python",
     "metadata": {},
     "outputs": []
    },
    {
     "cell_type": "markdown",
     "metadata": {},
     "source": [
      "CLI:"
     ]
    },
    {
     "cell_type": "code",
     "collapsed": false,
     "input": [
      "cloudmesh.shell(\"list vm india --refresh\")"
     ],
     "language": "python",
     "metadata": {},
     "outputs": []
    }
   ],
   "metadata": {}
  }
 ]
}