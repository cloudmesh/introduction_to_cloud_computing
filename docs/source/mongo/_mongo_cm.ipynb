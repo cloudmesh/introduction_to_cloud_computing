{
 "metadata": {
  "name": "",
  "signature": "sha256:15b147cdcfe1c9e0711601fb23d7b9ef5bef85bc8939c7f6f82e93a45b77f32d"
 },
 "nbformat": 3,
 "nbformat_minor": 0,
 "worksheets": [
  {
   "cells": [
    {
     "cell_type": "heading",
     "level": 1,
     "metadata": {},
     "source": [
      "Mongo"
     ]
    },
    {
     "cell_type": "markdown",
     "metadata": {},
     "source": [
      "<button type=\"button\" class=\"btn btn-default navbar-btn\">[Notebook](http://localhost:8888/notebooks/docs/source/cloudmesh/api/_mongo_cm.ipynb)</button>"
     ]
    },
    {
     "cell_type": "markdown",
     "metadata": {},
     "source": [
      "In cloudmesh we used and support two kind of mongo client - mongoclient from pymongo, and mongoengine. The first one create a connection to mongo and raw queries from mongodb are performed directly. The second one creates an object and data mapping, so, instead of query directly on the database level, the program is supposed to deal with object, while the object is mapped to the data layer automatically by the library.\n",
      "\n",
      "While the first one gives the most flexibility and total power to manipulating the db, in practise the second one provides better code readability and easier maintenance. In either case, we provide factory based connection generator in cloudmesh so it's easy to get a handler to deal with the db for cloudmesh developers."
     ]
    },
    {
     "cell_type": "markdown",
     "metadata": {},
     "source": [
      "PyMongo\n",
      "-----\n",
      "the preferrable way is to use the cm_mongo wrapper."
     ]
    },
    {
     "cell_type": "code",
     "collapsed": false,
     "input": [
      "from cloudmesh.cm_mongo import cm_mongo\n",
      "cm = cm_mongo()"
     ],
     "language": "python",
     "metadata": {},
     "outputs": []
    },
    {
     "cell_type": "markdown",
     "metadata": {},
     "source": [
      "Then you can utilize the methods defined in cm to easily read/write data.\n",
      "\n",
      "In case the operation you need was not defiend in the cm_mongo, you can either define it and augment the cm_mongo class (recommended), or directly use a connection handler defined as member of the class to directly talk to the db. (Not recommended)"
     ]
    },
    {
     "cell_type": "markdown",
     "metadata": {},
     "source": [
      "If you are clear about which db you only need to connect, you can do this also:"
     ]
    },
    {
     "cell_type": "code",
     "collapsed": false,
     "input": [
      "from cloudmesh.config.cm_config import get_mongo_db    \n",
      "collection = \"cloudmesh\"\n",
      "dbconn = get_mongo_db(collection)"
     ],
     "language": "python",
     "metadata": {},
     "outputs": []
    },
    {
     "cell_type": "markdown",
     "metadata": {},
     "source": [
      "This will connect you to the db specified by the key 'cloudmesh' in the mongodb section in the cloudmesh_server.yaml. Then dbconn is an object of MongoClient from pymongo so you can carry on calls directly to the db."
     ]
    },
    {
     "cell_type": "markdown",
     "metadata": {},
     "source": [
      "MongoEngine\n",
      "-----\n",
      "If it's possible, try to define classes for your data structure first and then use MongoEngine to map them to the data layer."
     ]
    },
    {
     "cell_type": "code",
     "collapsed": false,
     "input": [
      "from cloudmesh.config.cm_config import get_mongo_db, DBConnFactory\n",
      "get_mongo_db(\"experiment\", DBConnFactory.TYPE_MONGOENGINE)"
     ],
     "language": "python",
     "metadata": {},
     "outputs": []
    },
    {
     "cell_type": "markdown",
     "metadata": {},
     "source": [
      "This achieves what the connect() method is supposed to do, which is defined in MongoEngine, but with the factory pattern. In this example, it connect to the db keyed by 'experiment' in the mongodb section in the cloudmesh_server.yaml."
     ]
    },
    {
     "cell_type": "markdown",
     "metadata": {},
     "source": [
      "E.g., you can define a class for a data strucure, inheriting the Document class:"
     ]
    },
    {
     "cell_type": "code",
     "collapsed": false,
     "input": [
      "class ExperimentBase(Document):\n",
      "    cm_kind = StringField(default=\"experiment\")\n",
      "    cm_label = StringField()\n",
      "    cm_userid = StringField()\n",
      "    meta = {'allow_inheritance': True}\n",
      "    get_mongo_db(\"experiment\", DBConnFactory.TYPE_MONGOENGINE)"
     ],
     "language": "python",
     "metadata": {},
     "outputs": []
    },
    {
     "cell_type": "markdown",
     "metadata": {},
     "source": [
      "Then when you created object for this class, and a call .save() will save the object to the specified db."
     ]
    },
    {
     "cell_type": "markdown",
     "metadata": {},
     "source": [
      "Please note each different class will be writen into the specified db as a separate table/collection."
     ]
    }
   ],
   "metadata": {}
  }
 ]
}