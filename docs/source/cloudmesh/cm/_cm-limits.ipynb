{
 "metadata": {
  "name": "",
  "signature": "sha256:9d52d4a9085e43f862d9cbe7599a51f2fd1d5d455f8fd927b7d6b2d6210b272f"
 },
 "nbformat": 3,
 "nbformat_minor": 0,
 "worksheets": [
  {
   "cells": [
    {
     "cell_type": "heading",
     "level": 1,
     "metadata": {},
     "source": [
      "Metric Commands in Cloudmesh `cm`"
     ]
    },
    {
     "cell_type": "markdown",
     "metadata": {},
     "source": [
      "<button type=\"button\" class=\"btn btn-default navbar-btn\">[Notebook](http://localhost:8888/notebooks/docs/source/cloudmesh/cm/_cm-limits.ipynb)</button>"
     ]
    },
    {
     "cell_type": "markdown",
     "metadata": {},
     "source": [
      "The `limits` command provides active usage data with quota sizes. Resource utilization can be viewed with this command. For more details, `quota` command shows all quota information for a project, `usage` command provides a usage report for a certain period."
     ]
    },
    {
     "cell_type": "markdown",
     "metadata": {},
     "source": [
      ".. warning:: `limits` command is only supported in OpenStack"
     ]
    },
    {
     "cell_type": "markdown",
     "metadata": {},
     "source": [
      "IPython Alias"
     ]
    },
    {
     "cell_type": "markdown",
     "metadata": {},
     "source": [
      "With the alias command we simply define a new command with the name cm that we can call directly from IPython. Here we make sure that the parameters ar between \"\" so that they are properly set. Just execute the following lines."
     ]
    },
    {
     "cell_type": "code",
     "collapsed": false,
     "input": [
      "alias cm cm %s"
     ],
     "language": "python",
     "metadata": {},
     "outputs": [],
     "prompt_number": 5
    },
    {
     "cell_type": "markdown",
     "metadata": {},
     "source": [
      "We are using now one of the methods to call the cm commands in the following sections."
     ]
    },
    {
     "cell_type": "heading",
     "level": 2,
     "metadata": {},
     "source": [
      "`limits` command"
     ]
    },
    {
     "cell_type": "markdown",
     "metadata": {},
     "source": [
      "Simple execution of `limits` command displays vCPU cores, floating ip addresses (public ip), memory sizes (in megabytes), security groups, and vm instances. Other usage data suppressed and can be observed by `usage` or `quota` command."
     ]
    },
    {
     "cell_type": "code",
     "collapsed": false,
     "input": [
      "cm limits"
     ],
     "language": "python",
     "metadata": {},
     "outputs": [
      {
       "output_type": "stream",
       "stream": "stdout",
       "text": [
        "* india\r\n",
        "Refreshing albert servers india ->\r\n"
       ]
      },
      {
       "output_type": "stream",
       "stream": "stdout",
       "text": [
        "Refresh time: 0.157671928406\r\n",
        "Store time: 0.00192499160767\r\n"
       ]
      },
      {
       "output_type": "stream",
       "stream": "stdout",
       "text": [
        "+----------------+--------------+\r\n",
        "| Limits         | (Used/Max)   |\r\n",
        "+----------------+--------------+\r\n",
        "| Cores          | 3 / 20       |\r\n",
        "| FloatingIps    | 3 / 10       |\r\n",
        "| RAM            | 6144 / 51200 |\r\n",
        "| SecurityGroups | 5 / 10       |\r\n",
        "| Instances      | 3 / 10       |\r\n",
        "+----------------+--------------+\r\n"
       ]
      }
     ],
     "prompt_number": 8
    },
    {
     "cell_type": "heading",
     "level": 2,
     "metadata": {},
     "source": [
      "`usage` command"
     ]
    },
    {
     "cell_type": "markdown",
     "metadata": {},
     "source": [
      "`usage` command provides a short report for usage data of your cloud platform. You can choose desired start and end dates of your report."
     ]
    },
    {
     "cell_type": "code",
     "collapsed": false,
     "input": [
      "cm usage"
     ],
     "language": "python",
     "metadata": {},
     "outputs": [
      {
       "output_type": "stream",
       "stream": "stdout",
       "text": [
        "* india\r\n",
        "Refreshing albert servers india ->\r\n"
       ]
      },
      {
       "output_type": "stream",
       "stream": "stdout",
       "text": [
        "Refresh time: 0.178751945496\r\n",
        "Store time: 0.00191593170166\r\n"
       ]
      },
      {
       "output_type": "stream",
       "stream": "stdout",
       "text": [
        "+-----------------------+----------------------------------+\r\n",
        "| Variable              | Value                            |\r\n",
        "+-----------------------+----------------------------------+\r\n",
        "| total_memory_mb_usage | 368384.373737                    |\r\n",
        "| total_vcpus_usage     | 179.875182489                    |\r\n",
        "| total_hours           | 179.875182489                    |\r\n",
        "| tenant_id             | 3e6eaf1d913a48f694a7bc0fbb027507 |\r\n",
        "| stop                  | 2014-11-20T02:38:19.747782       |\r\n",
        "| server_usages         | 11 vms                           |\r\n",
        "| start                 | 2014-11-19T02:38:19.747765       |\r\n",
        "| total_local_gb_usage  | 3597.50364978                    |\r\n",
        "+-----------------------+----------------------------------+\r\n"
       ]
      }
     ],
     "prompt_number": 9
    },
    {
     "cell_type": "markdown",
     "metadata": {},
     "source": [
      "start and stop rows indicate the period of this report. In this example, the usage value displays 1 day usage data between 11/19/2014 - 11/20/2014."
     ]
    },
    {
     "cell_type": "heading",
     "level": 2,
     "metadata": {},
     "source": [
      "`quota` command"
     ]
    },
    {
     "cell_type": "markdown",
     "metadata": {},
     "source": [
      "`quota` command shows limit policy on your resource usage towards your project."
     ]
    },
    {
     "cell_type": "code",
     "collapsed": false,
     "input": [
      "cm quota"
     ],
     "language": "python",
     "metadata": {},
     "outputs": [
      {
       "output_type": "stream",
       "stream": "stdout",
       "text": [
        "* india\r\n",
        "Refreshing albert servers india ->\r\n"
       ]
      },
      {
       "output_type": "stream",
       "stream": "stdout",
       "text": [
        "Refresh time: 0.152929067612\r\n",
        "Store time: 0.00176787376404\r\n"
       ]
      },
      {
       "output_type": "stream",
       "stream": "stdout",
       "text": [
        "+-----------------------------+----------------------------------+\r\n",
        "| Variable                    | Value                            |\r\n",
        "+-----------------------------+----------------------------------+\r\n",
        "| injected_file_content_bytes | 10240                            |\r\n",
        "| metadata_items              | 128                              |\r\n",
        "| ram                         | 51200                            |\r\n",
        "| floating_ips                | 10                               |\r\n",
        "| key_pairs                   | 100                              |\r\n",
        "| injected_file_path_bytes    | 255                              |\r\n",
        "| instances                   | 10                               |\r\n",
        "| security_group_rules        | 20                               |\r\n",
        "| injected_files              | 5                                |\r\n",
        "| cores                       | 20                               |\r\n",
        "| fixed_ips                   | -1                               |\r\n",
        "| id                          | 3e6eaf1d913a48f694a7bc0fbb027507 |\r\n",
        "| security_groups             | 10                               |\r\n",
        "+-----------------------------+----------------------------------+\r\n"
       ]
      }
     ],
     "prompt_number": 11
    },
    {
     "cell_type": "markdown",
     "metadata": {},
     "source": [
      "These quota information tells you how many resources you can use on this account."
     ]
    }
   ],
   "metadata": {}
  }
 ]
}