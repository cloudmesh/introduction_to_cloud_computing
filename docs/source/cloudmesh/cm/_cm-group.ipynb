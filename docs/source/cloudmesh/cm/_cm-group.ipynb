{
 "metadata": {
  "name": "",
  "signature": "sha256:60d7233e28509f20916a92096e888d4556bb6900fab9c48df61f38e8254dba76"
 },
 "nbformat": 3,
 "nbformat_minor": 0,
 "worksheets": [
  {
   "cells": [
    {
     "cell_type": "heading",
     "level": 1,
     "metadata": {},
     "source": [
      "Managing multiple VMs with Cloudmesh cm"
     ]
    },
    {
     "cell_type": "markdown",
     "metadata": {},
     "source": [
      "When you start a cluster of VMs in Cloudmesh CLI, it is required to specify a group name for the cluster, so that we can manage the cluster according to the cluster name. In Cloudmesh CLI, you may use group command to manage groups."
     ]
    },
    {
     "cell_type": "markdown",
     "metadata": {},
     "source": [
      "IPython Alias"
     ]
    },
    {
     "cell_type": "markdown",
     "metadata": {},
     "source": [
      "With the alias command we simply define a new command with the name cm that we can call directly from IPython. Here we make sure that the parameters are between \"\" so that they are properly set. Just execute the following lines."
     ]
    },
    {
     "cell_type": "code",
     "collapsed": false,
     "input": [
      "alias cm cm %s"
     ],
     "language": "python",
     "metadata": {},
     "outputs": []
    },
    {
     "cell_type": "markdown",
     "metadata": {},
     "source": [
      "We are using now one of the methods to call the cm commands in the following sections."
     ]
    },
    {
     "cell_type": "heading",
     "level": 2,
     "metadata": {},
     "source": [
      "`group` command"
     ]
    },
    {
     "cell_type": "markdown",
     "metadata": {},
     "source": [
      "The `group` allows us to perform simple grouping of VMs but also images and flavors. A group is essentially a tuple in which you can add to a named group a type of an object and its unique name.  The group command allows you to create a group, add items to groups, and list groups. For more information, one can refer to the manual page."
     ]
    },
    {
     "cell_type": "code",
     "collapsed": false,
     "input": [
      "cm \"group -h\""
     ],
     "language": "python",
     "metadata": {},
     "outputs": []
    },
    {
     "cell_type": "markdown",
     "metadata": {},
     "source": [
      "To create a group with the name sample-group you can use the command:"
     ]
    },
    {
     "cell_type": "code",
     "collapsed": false,
     "input": [
      "cm \"group create sample-group\""
     ],
     "language": "python",
     "metadata": {},
     "outputs": []
    },
    {
     "cell_type": "markdown",
     "metadata": {},
     "source": [
      "Then you can list the groups with:"
     ]
    },
    {
     "cell_type": "code",
     "collapsed": false,
     "input": [
      "cm \"group list\""
     ],
     "language": "python",
     "metadata": {},
     "outputs": []
    },
    {
     "cell_type": "markdown",
     "metadata": {},
     "source": [
      "To add a VM named sample-vm to the group (make sure the VM exists before add it), you can use:"
     ]
    },
    {
     "cell_type": "code",
     "collapsed": false,
     "input": [
      "cm \"group add item sample-group vm sample-vm\""
     ],
     "language": "python",
     "metadata": {},
     "outputs": []
    },
    {
     "cell_type": "markdown",
     "metadata": {},
     "source": [
      "To list the elements in a group you can use:"
     ]
    },
    {
     "cell_type": "code",
     "collapsed": false,
     "input": [
      "cm \"group show sample-group\""
     ],
     "language": "python",
     "metadata": {},
     "outputs": []
    },
    {
     "cell_type": "markdown",
     "metadata": {},
     "source": [
      "To delete a VM from a group you can use:"
     ]
    },
    {
     "cell_type": "code",
     "collapsed": false,
     "input": [
      "cm \"group remove item sample-group vm sample-vm\""
     ],
     "language": "python",
     "metadata": {},
     "outputs": []
    },
    {
     "cell_type": "markdown",
     "metadata": {},
     "source": [
      "To delete a group:"
     ]
    },
    {
     "cell_type": "code",
     "collapsed": false,
     "input": [
      "cm \"group remove sample-group\""
     ],
     "language": "python",
     "metadata": {},
     "outputs": []
    },
    {
     "cell_type": "markdown",
     "metadata": {},
     "source": [
      "Please note that deletion of a group does not delete the accociated objects in that group. It only removes the object that stores the types and objects for that group."
     ]
    },
    {
     "cell_type": "heading",
     "level": 2,
     "metadata": {},
     "source": [
      "Working with group"
     ]
    },
    {
     "cell_type": "markdown",
     "metadata": {},
     "source": [
      "Groups are conveniently integrated into the cloudmesh shell. You may include a VM into a group while you create it, delete VMs by groups and when you create a cluster, a group name has to be provided. "
     ]
    },
    {
     "cell_type": "markdown",
     "metadata": {},
     "source": [
      "To start a VM and add it to group, you can use the group parameter. If the group doesn't exist, one will be created:"
     ]
    },
    {
     "cell_type": "code",
     "collapsed": false,
     "input": [
      "cm \"vm start --group=sample\""
     ],
     "language": "python",
     "metadata": {},
     "outputs": []
    },
    {
     "cell_type": "markdown",
     "metadata": {},
     "source": [
      "To delete the virtual machines specified in a group you can use the command:"
     ]
    },
    {
     "cell_type": "code",
     "collapsed": false,
     "input": [
      "cm \"vm delete --group=sample\""
     ],
     "language": "python",
     "metadata": {},
     "outputs": []
    },
    {
     "cell_type": "markdown",
     "metadata": {},
     "source": [
      "To create multiple vms that are part of a vitual cluster, you need to provide a group name. If the group doesn't exist, one will be created. If the group exist and it has VMs in it already, the newly created virtual machines will be included into the cluster. The following example will create two virtual machines while assuming the default cloud, flavor, and image. Make sure you set them before if they have not been set."
     ]
    },
    {
     "cell_type": "code",
     "collapsed": false,
     "input": [
      "cm \"cluster create --count=2 --group=sample\""
     ],
     "language": "python",
     "metadata": {},
     "outputs": []
    }
   ],
   "metadata": {}
  }
 ]
}