{
 "metadata": {
  "name": "",
  "signature": "sha256:3d8641911b991085f56be24f0984a7798db5d4d79a769752de3925fb66ec0337"
 },
 "nbformat": 3,
 "nbformat_minor": 0,
 "worksheets": [
  {
   "cells": [
    {
     "cell_type": "heading",
     "level": 1,
     "metadata": {},
     "source": [
      "Managing Volumes with Cloudmesh `cm`"
     ]
    },
    {
     "cell_type": "markdown",
     "metadata": {},
     "source": [
      "Cloudmesh provides a command for managing volumes. "
     ]
    },
    {
     "cell_type": "markdown",
     "metadata": {},
     "source": [
      ".. note: Currently, the volume command supports only openstack clouds."
     ]
    },
    {
     "cell_type": "markdown",
     "metadata": {},
     "source": [
      "IPython Alias"
     ]
    },
    {
     "cell_type": "markdown",
     "metadata": {},
     "source": [
      "With the alias command we simply define a new command with the name cm that we can call directly from IPython. Here we make sure that the parameters are between \"\" so that they are properly set. Just execute the following lines."
     ]
    },
    {
     "cell_type": "code",
     "collapsed": false,
     "input": [
      "alias cm cm %s"
     ],
     "language": "python",
     "metadata": {},
     "outputs": [],
     "prompt_number": 3
    },
    {
     "cell_type": "markdown",
     "metadata": {},
     "source": [
      "We are using now one of the methods to call the cm commands in the following sections."
     ]
    },
    {
     "cell_type": "markdown",
     "metadata": {},
     "source": [
      "Before using the volume command make sure to load the configurations by choosing a cloud using nova command, e.g.:"
     ]
    },
    {
     "cell_type": "code",
     "collapsed": false,
     "input": [
      "cm \"nova set india\""
     ],
     "language": "python",
     "metadata": {},
     "outputs": [
      {
       "output_type": "stream",
       "stream": "stdout",
       "text": [
        "india is set\r\n"
       ]
      }
     ],
     "prompt_number": 5
    },
    {
     "cell_type": "markdown",
     "metadata": {},
     "source": [
      "for more detailed descriptions:"
     ]
    },
    {
     "cell_type": "code",
     "collapsed": false,
     "input": [
      "cm \"volume\""
     ],
     "language": "python",
     "metadata": {},
     "outputs": [
      {
       "output_type": "stream",
       "stream": "stdout",
       "text": [
        "Error: Wrong Format\r\n",
        "\r\n",
        "Usage:\r\n",
        "    volume list\r\n",
        "    volume create <size>\r\n",
        "                  [--snapshot-id=<snapshot-id>]\r\n",
        "                  [--image-id=<image-id>]\r\n",
        "                  [--display-name=<display-name>]\r\n",
        "                  [--display-description=<display-description>]\r\n",
        "                  [--volume-type=<volume-type>]\r\n",
        "                  [--availability-zone=<availability-zone>]\r\n",
        "    volume delete <volume>\r\n",
        "    volume attach <server> <volume> <device>\r\n",
        "    volume detach <server> <volume>\r\n",
        "    volume show <volume>\r\n",
        "    volume snapshot-list\r\n",
        "    volume snapshot-create <volume-id>\r\n",
        "                           [--force]\r\n",
        "                           [--display-name=<display-name>]\r\n",
        "                           [--display-description=<display-description>]\r\n",
        "    volume snapshot-delete <snapshot>\r\n",
        "    volume snapshot-show <snapshot>\r\n",
        "    volume help\r\n",
        "\r\n",
        "\r\n",
        "volume management\r\n",
        "\r\n",
        "Arguments:\r\n",
        "    <size>            Size of volume in GB\r\n",
        "    <volume>          Name or ID of the volume to delete\r\n",
        "    <volume-id>       ID of the volume to snapshot\r\n",
        "    <server>          Name or ID of server(VM).\r\n",
        "    <device>          Name of the device e.g. /dev/vdb. Use \"auto\" for \r\n",
        "                      autoassign (if supported)\r\n",
        "    <snapshot>        Name or ID of the snapshot\r\n",
        "\r\n",
        "Options:\r\n",
        "    --snapshot-id <snapshot-id>\r\n",
        "                            Optional snapshot id to create the volume from.\r\n",
        "                            (Default=None)\r\n",
        "    --image-id <image-id>\r\n",
        "                            Optional image id to create the volume from.\r\n",
        "                            (Default=None)\r\n",
        "    --display-name <display-name>\r\n",
        "                            Optional volume name. (Default=None)\r\n",
        "    --display-description <display-description>\r\n",
        "                            Optional volume description. (Default=None)\r\n",
        "    --volume-type <volume-type>\r\n",
        "                            Optional volume type. (Default=None)\r\n",
        "    --availability-zone <availability-zone>\r\n",
        "                            Optional Availability Zone for volume. (Default=None)\r\n",
        "    --force                 Optional flag to indicate whether to snapshot a volume\r\n",
        "                            even if its attached to an instance. (Default=False)\r\n",
        "\r\n",
        "Description:\r\n",
        "    volume list\r\n",
        "        List all the volumes\r\n",
        "    volume create <size> [options...]\r\n",
        "        Add a new volume\r\n",
        "    volume delete <volume>\r\n",
        "        Remove a volume   \r\n",
        "    volume attach <server> <volume> <device>\r\n",
        "        Attach a volume to a server    \r\n",
        "    volume-detach <server> <volume>\r\n",
        "        Detach a volume from a server\r\n",
        "    volume show <volume>        \r\n",
        "        Show details about a volume\r\n",
        "    volume snapshot-list\r\n",
        "        List all the snapshots\r\n",
        "    volume snapshot-create <volume-id> [options...]\r\n",
        "        Add a new snapshot\r\n",
        "    volume snapshot-delete <snapshot>\r\n",
        "        Remove a snapshot\r\n",
        "    volume-snapshot-show <snapshot>\r\n",
        "        Show details about a snapshot\r\n",
        "    volume help \r\n",
        "        Prints the nova manual\r\n",
        "\r\n",
        "\r\n"
       ]
      }
     ],
     "prompt_number": 7
    }
   ],
   "metadata": {}
  }
 ]
}