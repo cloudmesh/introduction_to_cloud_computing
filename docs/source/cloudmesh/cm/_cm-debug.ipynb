{
 "metadata": {
  "name": "",
  "signature": "sha256:1a8fbe64977004602a2069cf697cd03550d217b7c4f0fd924ef700c84358a993"
 },
 "nbformat": 3,
 "nbformat_minor": 0,
 "worksheets": [
  {
   "cells": [
    {
     "cell_type": "heading",
     "level": 1,
     "metadata": {},
     "source": [
      "Command Shell Output Control"
     ]
    },
    {
     "cell_type": "markdown",
     "metadata": {},
     "source": [
      "<button type=\"button\" class=\"btn btn-default navbar-btn\">[Notebook](http://localhost:8888/notebooks/docs/source/cloudmesh/cm/_cm-debug.ipynb)</button>"
     ]
    },
    {
     "cell_type": "markdown",
     "metadata": {},
     "source": [
      "The `debug` command provides to turn on the debug log level or to turn it off."
     ]
    },
    {
     "cell_type": "heading",
     "level": 3,
     "metadata": {},
     "source": [
      "IPython Alias"
     ]
    },
    {
     "cell_type": "markdown",
     "metadata": {},
     "source": [
      "With the alias command we simply define a new command with the name cm that we can call directly from IPython. Here we make sure that the parameters ar between \"\" so that they are properly set. Just execute the following lines."
     ]
    },
    {
     "cell_type": "code",
     "collapsed": false,
     "input": [
      "alias cm cm %s"
     ],
     "language": "python",
     "metadata": {},
     "outputs": []
    },
    {
     "cell_type": "heading",
     "level": 2,
     "metadata": {},
     "source": [
      "`debug` Command in Cloudmesh `cm`"
     ]
    },
    {
     "cell_type": "markdown",
     "metadata": {},
     "source": [
      "The `debug on` command changes the log level to *debug*. In *debug* mode, all log messages will print out on the screen."
     ]
    },
    {
     "cell_type": "code",
     "collapsed": false,
     "input": [
      "cm debug on"
     ],
     "language": "python",
     "metadata": {},
     "outputs": []
    },
    {
     "cell_type": "code",
     "collapsed": false,
     "input": [
      "cm debug off"
     ],
     "language": "python",
     "metadata": {},
     "outputs": []
    },
    {
     "cell_type": "heading",
     "level": 2,
     "metadata": {},
     "source": [
      "`loglevel` Command in Cloudmesh cm"
     ]
    },
    {
     "cell_type": "markdown",
     "metadata": {},
     "source": [
      "`loglevel` allows you to update a log level on Cloudmesh. We can chose  one of five log levels:\n",
      "* `DEBUG`\n",
      "* `INFO`\n",
      "* `WARNING`\n",
      "* `ERROR`\n",
      "* `CRITICAL`"
     ]
    },
    {
     "cell_type": "markdown",
     "metadata": {},
     "source": [
      "To view the current log level you can use the command:"
     ]
    },
    {
     "cell_type": "code",
     "collapsed": false,
     "input": [
      "cm loglevel"
     ],
     "language": "python",
     "metadata": {},
     "outputs": []
    },
    {
     "cell_type": "markdown",
     "metadata": {},
     "source": [
      "To set the log level you simply put the keywords debug, info, warning, error, or critical after the loglevel comamnd:"
     ]
    },
    {
     "cell_type": "code",
     "collapsed": false,
     "input": [
      "cm loglevel debug"
     ],
     "language": "python",
     "metadata": {},
     "outputs": []
    },
    {
     "cell_type": "heading",
     "level": 2,
     "metadata": {},
     "source": [
      "`yaml` Command in Cloudmesh cm"
     ]
    },
    {
     "cell_type": "heading",
     "level": 3,
     "metadata": {},
     "source": [
      "Update a value in a yaml file"
     ]
    },
    {
     "cell_type": "markdown",
     "metadata": {},
     "source": [
      "You can change a value on a selected yaml file on the Cloudmesh cm shell. You may need to restart the Cloudmesh server to reflect the change. `yaml info` provides a current information of the yaml file (cloudmesh.yaml)."
     ]
    },
    {
     "cell_type": "code",
     "collapsed": false,
     "input": [
      "cm yaml info"
     ],
     "language": "python",
     "metadata": {},
     "outputs": []
    },
    {
     "cell_type": "heading",
     "level": 3,
     "metadata": {},
     "source": [
      "View the value of the selected key in the server yaml file"
     ]
    },
    {
     "cell_type": "markdown",
     "metadata": {},
     "source": [
      "`yaml info-server` provides information about the server yaml file (cloudmesh_server.yaml). If you specify the key name in a dotted format, you can see the stored value in the yaml file. This example below selects *['cloudmesh']['server']['loglevel']* in the yaml file."
     ]
    },
    {
     "cell_type": "code",
     "collapsed": false,
     "input": [
      "cm yaml info-server cloudmesh.server.loglevel\n"
     ],
     "language": "python",
     "metadata": {},
     "outputs": []
    },
    {
     "cell_type": "markdown",
     "metadata": {},
     "source": [
      "You can see the *DEBUG* is the current setting of the log level in the Cloudmesh server."
     ]
    },
    {
     "cell_type": "heading",
     "level": 3,
     "metadata": {},
     "source": [
      "Change the value of the selected key"
     ]
    },
    {
     "cell_type": "markdown",
     "metadata": {},
     "source": [
      "If you desire to change the log level to *ERROR*, you need to call `replace-server` option in the yaml command."
     ]
    },
    {
     "cell_type": "code",
     "collapsed": false,
     "input": [
      "cm yaml replace-server cloudmesh.server.loglevel ERROR"
     ],
     "language": "python",
     "metadata": {},
     "outputs": []
    },
    {
     "cell_type": "code",
     "collapsed": false,
     "input": [
      "cm yaml info-server cloudmesh.server.loglevel"
     ],
     "language": "python",
     "metadata": {},
     "outputs": []
    },
    {
     "cell_type": "markdown",
     "metadata": {},
     "source": [
      "Now you can see it has been changed to *ERROR*."
     ]
    },
    {
     "cell_type": "heading",
     "level": 2,
     "metadata": {},
     "source": [
      "`color` Command in Cloudmesh cm"
     ]
    },
    {
     "cell_type": "markdown",
     "metadata": {},
     "source": [
      "The Cloudmesh cm shell can enable color support in output messages. Warning, Error, Debug, Info, or other type of messages can be viewed with different colors. `cm color on/off` command enables or disables this feature."
     ]
    },
    {
     "cell_type": "code",
     "collapsed": false,
     "input": [
      "cm color on"
     ],
     "language": "python",
     "metadata": {},
     "outputs": []
    },
    {
     "cell_type": "code",
     "collapsed": false,
     "input": [
      "cm color off"
     ],
     "language": "python",
     "metadata": {},
     "outputs": []
    }
   ],
   "metadata": {}
  }
 ]
}