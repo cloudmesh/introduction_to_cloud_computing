{
 "metadata": {
  "name": "",
  "signature": "sha256:9be09862a65d5475a6d5b2cf5c78875a543c6b752eccb87a9537b27ea824e3ab"
 },
 "nbformat": 3,
 "nbformat_minor": 0,
 "worksheets": [
  {
   "cells": [
    {
     "cell_type": "heading",
     "level": 1,
     "metadata": {},
     "source": [
      "Cloudmesh `cm` Command"
     ]
    },
    {
     "cell_type": "markdown",
     "metadata": {},
     "source": [
      "<button type=\"button\" class=\"btn btn-default navbar-btn\">[Notebook](http://localhost:8888/notebooks/docs/source/cloudmesh/cm/_cm.ipynb)</button>"
     ]
    },
    {
     "cell_type": "heading",
     "level": 2,
     "metadata": {},
     "source": [
      "iPython Execution of shell commands"
     ]
    },
    {
     "cell_type": "markdown",
     "metadata": {},
     "source": [
      "In this section we use one of the build in features of iPython. IPython provides various mechanisms to call programs within its shell. One of the ways to do so is to use the ! character at the beginning of a line to execute the command in the shell. \n",
      "\n",
      "However, there are more convenient ways to eliminate the ! sign at the beginning of a line. One way is to use the alias command, another is to use the %rehasx command."
     ]
    },
    {
     "cell_type": "heading",
     "level": 3,
     "metadata": {},
     "source": [
      "IPython Alias"
     ]
    },
    {
     "cell_type": "markdown",
     "metadata": {},
     "source": [
      "With the alias command we simply define a new command with the name cm that we can call directly from IPython. Here we make sure that the parameters ar between \"\" so that they are properly set. Just execute the following lines."
     ]
    },
    {
     "cell_type": "code",
     "collapsed": false,
     "input": [
      "alias cm cm %s"
     ],
     "language": "python",
     "metadata": {},
     "outputs": [],
     "prompt_number": 1
    },
    {
     "cell_type": "markdown",
     "metadata": {},
     "source": [
      "Now let us test the command and lets print the version of cloudmesh cm"
     ]
    },
    {
     "cell_type": "code",
     "collapsed": false,
     "input": [
      "cm version"
     ],
     "language": "python",
     "metadata": {},
     "outputs": [
      {
       "output_type": "stream",
       "stream": "stdout",
       "text": [
        "1.0.6\r\n"
       ]
      }
     ],
     "prompt_number": 2
    },
    {
     "cell_type": "heading",
     "level": 3,
     "metadata": {},
     "source": [
      "Python %rehashx"
     ]
    },
    {
     "cell_type": "markdown",
     "metadata": {},
     "source": [
      "In addition to the direct specification IPython has also a rehashx function, that loads the commands found in the $PATH variable so you can execute the without !. "
     ]
    },
    {
     "cell_type": "code",
     "collapsed": false,
     "input": [
      "%rehashx"
     ],
     "language": "python",
     "metadata": {},
     "outputs": [],
     "prompt_number": 3
    },
    {
     "cell_type": "code",
     "collapsed": false,
     "input": [
      "cm version"
     ],
     "language": "python",
     "metadata": {},
     "outputs": [
      {
       "output_type": "stream",
       "stream": "stdout",
       "text": [
        "1.0.6\r\n"
       ]
      }
     ],
     "prompt_number": 4
    },
    {
     "cell_type": "markdown",
     "metadata": {},
     "source": [
      "We are using now one of the methods to call the cm commands in the following sections."
     ]
    },
    {
     "cell_type": "heading",
     "level": 2,
     "metadata": {},
     "source": [
      "`cm` Command"
     ]
    },
    {
     "cell_type": "markdown",
     "metadata": {},
     "source": [
      "The `cm` command has a number of options that are useful to pass a script or a command directly into cm. Please however not that in some cases the command must be quoted to avoid confusion between flags used for cm and flags used for its subcommands. Let us invoke the -h flag to see which options cm has."
     ]
    },
    {
     "cell_type": "code",
     "collapsed": false,
     "input": [
      "cm -h"
     ],
     "language": "python",
     "metadata": {},
     "outputs": [
      {
       "output_type": "stream",
       "stream": "stdout",
       "text": [
        "cm.\r\n",
        "\r\n",
        "    Usage:\r\n",
        "      cm [-q] help\r\n",
        "      cm [-v] [-b] [--file=SCRIPT] [-i] [COMMAND ...]\r\n",
        "\r\n",
        "    Arguments:\r\n",
        "      COMMAND                  A command to be executed\r\n",
        "\r\n",
        "    Options:\r\n",
        "      --file=SCRIPT  -f  SCRIPT  Executes the script\r\n",
        "      -i                 After start keep the shell interactive,\r\n",
        "                         otherwise quit [default: False]\r\n",
        "      -b                 surpress the printing of the banner [default: False]\r\n",
        "    \r\n"
       ]
      }
     ],
     "prompt_number": 5
    },
    {
     "cell_type": "heading",
     "level": 3,
     "metadata": {},
     "source": [
      "Help"
     ]
    },
    {
     "cell_type": "markdown",
     "metadata": {},
     "source": [
      "Now let us execute the help command to see what other functions are supported. As cm is based on cmd3 that you can find in pypi it inherits a number of commands from cmd3. However, more importantly it also obtains a number of commands from cm itself. To more easily distinguish the categories of the cloud related commands we introduced two of them called GUI commands and cloud commands. "
     ]
    },
    {
     "cell_type": "code",
     "collapsed": false,
     "input": [
      "cm help"
     ],
     "language": "python",
     "metadata": {},
     "outputs": [
      {
       "output_type": "stream",
       "stream": "stdout",
       "text": [
        "\r\n",
        "Documented commands (type help <topic>):\r\n",
        "========================================\r\n"
       ]
      },
      {
       "output_type": "stream",
       "stream": "stdout",
       "text": [
        "EOF       dot2      help       list      plugins   script          verbose\r\n",
        "banner    edit      image      loglevel  project   security_group  version\r\n",
        "clear     exec      info       man       py        storm           vm     \r\n",
        "cloud     exp       init       metric    q         timer           web    \r\n",
        "color     flavor    inventory  notebook  quit      use             yaml   \r\n",
        "debug     graphviz  key        open      rain      user          \r\n",
        "defaults  group     label      pause     register  var           \r\n",
        "\r\n",
        "Ipython Commands\r\n",
        "================\r\n",
        "notebook\r\n",
        "\r\n",
        "Gui Commands\r\n",
        "============\r\n",
        "web\r\n",
        "\r\n",
        "Cloud Commands\r\n",
        "==============\r\n",
        "cloud     group  inventory  rain            storm  yaml      keys   \r\n",
        "defaults  image  list       register        user   debug     project\r\n",
        "flavor    init   metric     security_group  vm     loglevel\r\n",
        "\r\n"
       ]
      }
     ],
     "prompt_number": 7
    },
    {
     "cell_type": "heading",
     "level": 3,
     "metadata": {},
     "source": [
      "Starting the Web Browser"
     ]
    },
    {
     "cell_type": "markdown",
     "metadata": {},
     "source": [
      "To start the browser, simply type the command "
     ]
    },
    {
     "cell_type": "markdown",
     "metadata": {},
     "source": [
      "<pre>cm web</pre>"
     ]
    },
    {
     "cell_type": "markdown",
     "metadata": {},
     "source": [
      "<img src=\"file://images/cm-splash.png\">"
     ]
    },
    {
     "cell_type": "markdown",
     "metadata": {},
     "source": [
      "<img src=\"../../images/cm-splash.png\">"
     ]
    },
    {
     "cell_type": "heading",
     "level": 3,
     "metadata": {},
     "source": [
      "Listing Clouds"
     ]
    },
    {
     "cell_type": "code",
     "collapsed": false,
     "input": [
      "cm cloud list"
     ],
     "language": "python",
     "metadata": {},
     "outputs": [
      {
       "output_type": "stream",
       "stream": "stdout",
       "text": [
        "+-----------+--------+\r\n",
        "| cloud     | active |\r\n",
        "+-----------+--------+\r\n",
        "| aws       |        |\r\n",
        "| azure     |        |\r\n",
        "| devstack  |        |\r\n",
        "| dreamhost |        |\r\n",
        "| hp        |        |\r\n",
        "| hp_east   |        |\r\n",
        "| india     | True   |\r\n",
        "+-----------+--------+\r\n"
       ]
      }
     ],
     "prompt_number": 8
    },
    {
     "cell_type": "markdown",
     "metadata": {},
     "source": [
      "Let us inspect the parameters. To limit the output we just display the first 10 lines of the help/man page. We see the --column option in the list command. "
     ]
    },
    {
     "cell_type": "code",
     "collapsed": false,
     "input": [
      "cm help cloud | head -n 10 "
     ],
     "language": "python",
     "metadata": {},
     "outputs": [
      {
       "output_type": "stream",
       "stream": "stdout",
       "text": [
        "\r\n",
        "::\r\n",
        "\r\n",
        "    Usage:\r\n",
        "        cloud [list] [--column=COLUMN] [--format=FORMAT]\r\n",
        "        cloud info [CLOUD|--all] [--format=FORMAT]\r\n",
        "        cloud alias NAME [CLOUD]\r\n",
        "        cloud select [CLOUD]\r\n",
        "        cloud on [CLOUD]\r\n",
        "        cloud off [CLOUD]\r\n"
       ]
      }
     ],
     "prompt_number": 9
    },
    {
     "cell_type": "markdown",
     "metadata": {},
     "source": [
      "...\n",
      "\n",
      "For more information, read the help page. It essentially allows us to display some more useful information beyond to just document the active clouds. Let us also display the label. This is done with the following command."
     ]
    },
    {
     "cell_type": "code",
     "collapsed": false,
     "input": [
      "cm \"cloud list --column=active,label\""
     ],
     "language": "python",
     "metadata": {},
     "outputs": [
      {
       "output_type": "stream",
       "stream": "stdout",
       "text": [
        "+-----------+--------+--------------------+\r\n",
        "| cloud     | active | label              |\r\n",
        "+-----------+--------+--------------------+\r\n",
        "| aws       |        | aws                |\r\n",
        "| azure     |        | waz                |\r\n",
        "| devstack  |        | localhost_icehouse |\r\n",
        "| dreamhost |        | dreamhost          |\r\n",
        "| hp        |        | hpos               |\r\n",
        "| hp_east   |        | hpeos              |\r\n",
        "| india     | True   | ios_havana         |\r\n",
        "+-----------+--------+--------------------+\r\n"
       ]
      }
     ],
     "prompt_number": 10
    },
    {
     "cell_type": "markdown",
     "metadata": {},
     "source": [
      "Let us now demonstrate a common error by not using proper quoting. This occurs when you use option flags with the command. Here our current parser is unable to distinguish between the options passed to cm and the options as used in the cm command. You see the usage message that we do not have a --column in the cm command. To avoid thie use the \" \" as previously shown."
     ]
    },
    {
     "cell_type": "code",
     "collapsed": false,
     "input": [
      "cm cloud list --column=active,label"
     ],
     "language": "python",
     "metadata": {},
     "outputs": [
      {
       "output_type": "stream",
       "stream": "stdout",
       "text": [
        "Usage:\r\n",
        "      cm [-q] help\r\n",
        "      cm [-v] [-b] [--file=SCRIPT] [-i] [COMMAND ...]\r\n"
       ]
      }
     ],
     "prompt_number": 11
    }
   ],
   "metadata": {}
  }
 ]
}